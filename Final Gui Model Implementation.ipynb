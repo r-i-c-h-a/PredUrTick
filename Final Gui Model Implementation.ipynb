{
 "cells": [
  {
   "cell_type": "code",
   "execution_count": 316,
   "metadata": {},
   "outputs": [],
   "source": [
    "import pandas as pd\n",
    "import numpy as np\n",
    "import matplotlib.pyplot as plt\n",
    "from sklearn.cluster import DBSCAN\n",
    "import math\n",
    "from tkinter import *\n",
    "from sklearn.neighbors import NearestNeighbors\n",
    "from sklearn.neighbors import KNeighborsClassifier\n",
    "from sklearn.model_selection import train_test_split\n",
    "from sklearn.model_selection import cross_val_score\n",
    "pd.options.mode.chained_assignment = None"
   ]
  },
  {
   "cell_type": "markdown",
   "metadata": {},
   "source": [
    "<h1>Load Dataset</h1>"
   ]
  },
  {
   "cell_type": "code",
   "execution_count": 317,
   "metadata": {},
   "outputs": [],
   "source": [
    "df = pd.read_csv(\"Dataset/ParkingData_Month_Time_Week.csv\")"
   ]
  },
  {
   "cell_type": "code",
   "execution_count": 318,
   "metadata": {},
   "outputs": [],
   "source": [
    "data = df[['Latitude','Longitude','count','Day_Num','Issue Month','Time_Num','Street Name']]"
   ]
  },
  {
   "cell_type": "markdown",
   "metadata": {},
   "source": [
    "<h1> KNN Model </h1>"
   ]
  },
  {
   "cell_type": "markdown",
   "metadata": {},
   "source": [
    "Gives the cluster value of target location and tells if its safe to park or not. If not safe, Also gives the top three areas to avoid for parking. "
   ]
  },
  {
   "cell_type": "code",
   "execution_count": 319,
   "metadata": {},
   "outputs": [],
   "source": [
    "def knnModel(lat,lon,clustered_x):\n",
    "    #print(lat,lon)\n",
    "    x = clustered_x[['Latitude','Longitude']]\n",
    "    y = clustered_x['cluster']\n",
    "    \n",
    "    #train Model\n",
    "    x_train, x_test, y_train, y_test = train_test_split(x, y, test_size=0.2, random_state=1)\n",
    "    # Create KNN classifier\n",
    "    knn = KNeighborsClassifier(n_neighbors = 3)\n",
    "    # Fit the classifier to the data\n",
    "    knn.fit(x_train,y_train)\n",
    "    #show first 5 model predictions on the test data\n",
    "    #knn.predict(x_test)[0:5]\n",
    "    \n",
    "    score = knn.score(x_test, y_test)\n",
    "    print(\"KNN Score\", score)\n",
    "    \n",
    "#     #train model with cv of 5 \n",
    "#     cv_scores = cross_val_score(knn, x, y, cv=5)\n",
    "#     #print each cv score (accuracy) and average them\n",
    "#     #print(cv_scores)\n",
    "#     print('Cross Validation Score Mean:{}'.format(np.mean(cv_scores)))\n",
    "\n",
    "    #for given query\n",
    "    x_coord,y_coord=lat,lon\n",
    "    case_coords= [x_coord,y_coord]\n",
    "    case_cluster = knn.predict(np.array(case_coords).reshape(1,-1))\n",
    "    if(case_cluster[0]!=-1):\n",
    "        distances,indices = knn.kneighbors(np.array(case_coords).reshape(1,-1))\n",
    "        if(min(distances[0])>1):\n",
    "            print(\"Safe to Park\")\n",
    "            label_out_0 = Label(root, text=\"Safe To Park\")\n",
    "            label_out_0.place(x=190,y=670)\n",
    "            \n",
    "        else:\n",
    "            print(\"Not safe to park!!!\")\n",
    "            print(\"Also Avoid the following areas:\")\n",
    "            label_out_0 = Label(root, text=\"Not safe to park!!! Also Avoid the following areas:\")\n",
    "            label_out_0.place(x=150,y=670)\n",
    "            num=20\n",
    "            for i in indices[0]:\n",
    "                print(np.array(clustered_x['street name'])[i])\n",
    "                var = 'label_out'+str(num)\n",
    "                var = Label(root, text = np.array(clustered_x['street name'])[i] )\n",
    "                var.place(x=200,y=670+num)\n",
    "                num+=20\n",
    "    else:\n",
    "        print(\"Safe To Park\")"
   ]
  },
  {
   "cell_type": "markdown",
   "metadata": {},
   "source": [
    "<h1>DBSCAN Model </h1>"
   ]
  },
  {
   "cell_type": "markdown",
   "metadata": {},
   "source": [
    "Performs DBSCAN clustering to get cluster values and calls KNN model for classification."
   ]
  },
  {
   "cell_type": "code",
   "execution_count": 320,
   "metadata": {},
   "outputs": [],
   "source": [
    "def dbscanCluster(values,sample):\n",
    "    sample_x = sample[['Latitude','Longitude']]\n",
    "    # get min pts value -- heuristic method\n",
    "    min_pts = round(math.log(sample.shape[0]))\n",
    "    print(\"Min Pts Value\",min_pts)\n",
    "    #build dbscan model for sample_x\n",
    "    m = DBSCAN(eps=0.5, min_samples=min_pts)\n",
    "    m.fit(sample_x)\n",
    "    #get cluster labels\n",
    "    clusters = m.labels_\n",
    "    print(\"Cluster Labels\",set(clusters))\n",
    "    #count number of clusters -1 means outlier\n",
    "    n_clusters_ = len(set(clusters)) - (1 if -1 in clusters else 0)\n",
    "    print(\"number of clusters = \",n_clusters_)\n",
    "    #plotting clusters\n",
    "    colors = ['royalblue', 'maroon', 'forestgreen', 'mediumorchid', 'tan', 'deeppink', 'olive', 'goldenrod', 'lightcyan', 'navy']\n",
    "    vectorizer = np.vectorize(lambda x: colors[x % len(colors)])\n",
    "    plt.scatter(sample_x.iloc[:,0], sample_x.iloc[:,1], c=vectorizer(clusters))\n",
    "    plt.title(\"DBSCAN Clusters\")     #rendered after GUI is closed\n",
    "    plt.xlabel(\"Latitude\")\n",
    "    plt.ylabel(\"Longitude\")\n",
    "    #add clusters column\n",
    "    clustered_x = sample_x\n",
    "    clustered_x['cluster']=clusters\n",
    "    clustered_x['street name']=sample['Street Name']\n",
    "    #print(clustered_x.head())\n",
    "    \n",
    "    #Call KNN Model\n",
    "    knnModel(values[0],values[1],clustered_x)\n",
    "    "
   ]
  },
  {
   "cell_type": "markdown",
   "metadata": {},
   "source": [
    "Function to filter based on Month, Day and Time user input. It calls DBSCAN Model"
   ]
  },
  {
   "cell_type": "code",
   "execution_count": 321,
   "metadata": {},
   "outputs": [],
   "source": [
    "def processing(values):\n",
    "    #select sample based on month,day,time\n",
    "    sample= data[(data['Day_Num']==values[3]) & (data['Issue Month']==values[2]) & (data['Time_Num']==values[4])]\n",
    "    #print(sample.head(2))\n",
    "    #print(sample.shape)\n",
    "    plt.scatter(sample['Latitude'],sample['Longitude'])\n",
    "    dbscanCluster(values,sample)\n",
    "    "
   ]
  },
  {
   "cell_type": "markdown",
   "metadata": {},
   "source": [
    "Function to extract values from GUI input"
   ]
  },
  {
   "cell_type": "code",
   "execution_count": 322,
   "metadata": {},
   "outputs": [],
   "source": [
    "def getValues():\n",
    "    m = {'Jan':1,'Feb':2,'Mar':3,'Apr':4,'May':5,'Jun':6,'Jul':7,'Aug':8,'Sep':9,'Oct':10,'Nov':11,'Dec':12}\n",
    "    d = {'Mon':0,'Tue':1,'Wed':2,'Thurs':3,'Fri':4,'Sat':5,'Sun':6}\n",
    "    t = {\"12AM-6AM\":0,\"6AM-12PM\":1,\"12PM-6PM\":2,\"6PM-12AM\":3}\n",
    "    lat = float(entry_1.get())\n",
    "    lon = float(entry_2.get())\n",
    "    month = str((listbox_1.get(ACTIVE)))\n",
    "    day = str((listbox_2.get(ACTIVE)))\n",
    "    time = str((listbox_3.get(ACTIVE)))\n",
    "    #print(lat,lon,month,day,time)\n",
    "    #print(lat,lon,m[month],d[day],t[time])\n",
    "    processing((lat,lon,m[month],d[day],t[time]))\n",
    "    "
   ]
  },
  {
   "cell_type": "markdown",
   "metadata": {},
   "source": [
    "<h1> GUI Entry </h1>"
   ]
  },
  {
   "cell_type": "code",
   "execution_count": null,
   "metadata": {},
   "outputs": [
    {
     "name": "stdout",
     "output_type": "stream",
     "text": [
      "Min Pts Value 7\n",
      "Cluster Labels {0, -1}\n",
      "number of clusters =  1\n",
      "KNN Score 0.98989898989899\n",
      "Not safe to park!!!\n",
      "Also Avoid the following areas:\n",
      "QUEENS BLVD (W/B) @\n",
      "ATLANTIC AVE\n",
      "E 4th St\n"
     ]
    }
   ],
   "source": [
    "root = Tk()\n",
    "root.geometry('500x760')\n",
    "root.title(\"Check Parking\")\n",
    "\n",
    "#Lat & Lon\n",
    "label_0 = Label(root, text=\"Check Parking\",width=20,font=(\"bold\", 20))\n",
    "label_0.place(x=90,y=53)\n",
    "\n",
    "label_1 = Label(root, text=\"Latitude\",width=20,font=(\"bold\", 10))\n",
    "label_1.place(x=80,y=130)\n",
    "entry_1 = Entry(root)\n",
    "entry_1.place(x=240,y=130)\n",
    "\n",
    "\n",
    "label_2 = Label(root, text=\"Longitude\",width=20,font=(\"bold\", 10))\n",
    "label_2.place(x=68,y=180)\n",
    "entry_2 = Entry(root)\n",
    "entry_2.place(x=240,y=180)\n",
    "\n",
    "#Month\n",
    "label_3 = Label(root, text=\"Month\",width=20,font=(\"bold\", 10))\n",
    "label_3.place(x=40,y=230)\n",
    "# entry_3 = Entry(root)\n",
    "# entry_3.place(x=140,y=230)\n",
    "months=['Jan','Feb','Mar','Apr','May','Jun','Jul','Aug','Sep','Oct','Nov','Dec']\n",
    "listbox_1 = Listbox(root,exportselection=0)\n",
    "for item in months:\n",
    "    listbox_1.insert(END, item)\n",
    "listbox_1.place(x=60, y=250)\n",
    "\n",
    "#Day\n",
    "label_4 = Label(root, text=\"Day\",width=20,font=(\"bold\", 10))\n",
    "label_4.place(x=280,y=230)\n",
    "# entry_4 = Entry(root)\n",
    "# entry_4.place(x=240,y=230)\n",
    "days=['Mon','Tue','Wed','Thurs','Fri','Sat','Sun']\n",
    "listbox_2 = Listbox(root,exportselection=0)\n",
    "for item in days:\n",
    "    listbox_2.insert(END, item)\n",
    "listbox_2.place(x=300, y=250)\n",
    "\n",
    "#Time Slot\n",
    "label_5 = Label(root, text=\"Time Slot\",width=20,font=(\"bold\", 10))\n",
    "label_5.place(x=70,y=440)\n",
    "listbox_3 = Listbox(root,exportselection=0)  \n",
    "listbox_3.insert(1,\"12AM-6AM\")  \n",
    "listbox_3.insert(2, \"6AM-12PM\")  \n",
    "listbox_3.insert(3, \"12PM-6PM\")  \n",
    "listbox_3.insert(4, \"6PM-12AM\")  \n",
    "listbox_3.place(x=200, y=440)\n",
    "\n",
    "Button(root, text='Submit',width=20,bg='brown',fg='white',command=getValues).place(x=180,y=630)\n",
    "# it is use for display the registration form on the window\n",
    "\n",
    "\n",
    "root.mainloop()"
   ]
  },
  {
   "cell_type": "code",
   "execution_count": null,
   "metadata": {},
   "outputs": [],
   "source": []
  },
  {
   "cell_type": "code",
   "execution_count": null,
   "metadata": {},
   "outputs": [],
   "source": []
  }
 ],
 "metadata": {
  "kernelspec": {
   "display_name": "Python [conda root]",
   "language": "python",
   "name": "conda-root-py"
  },
  "language_info": {
   "codemirror_mode": {
    "name": "ipython",
    "version": 3
   },
   "file_extension": ".py",
   "mimetype": "text/x-python",
   "name": "python",
   "nbconvert_exporter": "python",
   "pygments_lexer": "ipython3",
   "version": "3.5.6"
  }
 },
 "nbformat": 4,
 "nbformat_minor": 2
}
