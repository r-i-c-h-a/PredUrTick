{
 "cells": [
  {
   "cell_type": "code",
   "execution_count": 1,
   "metadata": {},
   "outputs": [],
   "source": [
    "import pandas as pd\n",
    "import numpy as np"
   ]
  },
  {
   "cell_type": "code",
   "execution_count": 2,
   "metadata": {},
   "outputs": [],
   "source": [
    "df = pd.read_csv(\"C:/Users/Mainaki Saraf/Desktop/Sem 5/DA/Project/Dataset/Sample_NaStreet_Removed.csv\")"
   ]
  },
  {
   "cell_type": "code",
   "execution_count": 5,
   "metadata": {},
   "outputs": [
    {
     "data": {
      "text/plain": [
       "(1079918, 50)"
      ]
     },
     "execution_count": 5,
     "metadata": {},
     "output_type": "execute_result"
    }
   ],
   "source": [
    "df.shape"
   ]
  },
  {
   "cell_type": "code",
   "execution_count": 10,
   "metadata": {},
   "outputs": [
    {
     "data": {
      "text/html": [
       "<div>\n",
       "<style scoped>\n",
       "    .dataframe tbody tr th:only-of-type {\n",
       "        vertical-align: middle;\n",
       "    }\n",
       "\n",
       "    .dataframe tbody tr th {\n",
       "        vertical-align: top;\n",
       "    }\n",
       "\n",
       "    .dataframe thead th {\n",
       "        text-align: right;\n",
       "    }\n",
       "</style>\n",
       "<table border=\"1\" class=\"dataframe\">\n",
       "  <thead>\n",
       "    <tr style=\"text-align: right;\">\n",
       "      <th></th>\n",
       "      <th>Unnamed: 0</th>\n",
       "      <th>Unnamed: 0.1</th>\n",
       "      <th>Summons Number</th>\n",
       "      <th>Plate ID</th>\n",
       "      <th>Registration State</th>\n",
       "      <th>Plate Type</th>\n",
       "      <th>Issue Date</th>\n",
       "      <th>Violation Code</th>\n",
       "      <th>Vehicle Body Type</th>\n",
       "      <th>Vehicle Make</th>\n",
       "      <th>...</th>\n",
       "      <th>Violation Post Code</th>\n",
       "      <th>Violation Description</th>\n",
       "      <th>No Standing or Stopping Violation</th>\n",
       "      <th>Hydrant Violation</th>\n",
       "      <th>Double Parking Violation</th>\n",
       "      <th>Vio_Time</th>\n",
       "      <th>Latitude</th>\n",
       "      <th>Longitude</th>\n",
       "      <th>count</th>\n",
       "      <th>Hour</th>\n",
       "    </tr>\n",
       "  </thead>\n",
       "  <tbody>\n",
       "    <tr>\n",
       "      <th>0</th>\n",
       "      <td>0</td>\n",
       "      <td>10181267</td>\n",
       "      <td>1417714839</td>\n",
       "      <td>DJR2559</td>\n",
       "      <td>NY</td>\n",
       "      <td>PAS</td>\n",
       "      <td>2017-05-12</td>\n",
       "      <td>46</td>\n",
       "      <td>SUBN</td>\n",
       "      <td>FORD</td>\n",
       "      <td>...</td>\n",
       "      <td>NaN</td>\n",
       "      <td>NaN</td>\n",
       "      <td>NaN</td>\n",
       "      <td>NaN</td>\n",
       "      <td>NaN</td>\n",
       "      <td>2019-10-26 13:34:00</td>\n",
       "      <td>40.6198682</td>\n",
       "      <td>-74.1594015</td>\n",
       "      <td>1</td>\n",
       "      <td>13.0</td>\n",
       "    </tr>\n",
       "    <tr>\n",
       "      <th>1</th>\n",
       "      <td>1</td>\n",
       "      <td>5276368</td>\n",
       "      <td>8471209986</td>\n",
       "      <td>XEDS80</td>\n",
       "      <td>NJ</td>\n",
       "      <td>PAS</td>\n",
       "      <td>2016-10-04</td>\n",
       "      <td>19</td>\n",
       "      <td>DELV</td>\n",
       "      <td>FRUEH</td>\n",
       "      <td>...</td>\n",
       "      <td>032</td>\n",
       "      <td>19-No Stand (bus stop)</td>\n",
       "      <td>NaN</td>\n",
       "      <td>NaN</td>\n",
       "      <td>NaN</td>\n",
       "      <td>2019-10-26 09:49:00</td>\n",
       "      <td>40.81241989999999</td>\n",
       "      <td>-73.96053429999999</td>\n",
       "      <td>1</td>\n",
       "      <td>9.0</td>\n",
       "    </tr>\n",
       "  </tbody>\n",
       "</table>\n",
       "<p>2 rows × 50 columns</p>\n",
       "</div>"
      ],
      "text/plain": [
       "   Unnamed: 0  Unnamed: 0.1  Summons Number Plate ID Registration State  \\\n",
       "0           0      10181267      1417714839  DJR2559                 NY   \n",
       "1           1       5276368      8471209986   XEDS80                 NJ   \n",
       "\n",
       "  Plate Type  Issue Date  Violation Code Vehicle Body Type Vehicle Make  ...   \\\n",
       "0        PAS  2017-05-12              46              SUBN         FORD  ...    \n",
       "1        PAS  2016-10-04              19              DELV        FRUEH  ...    \n",
       "\n",
       "  Violation Post Code   Violation Description  \\\n",
       "0                 NaN                     NaN   \n",
       "1                 032  19-No Stand (bus stop)   \n",
       "\n",
       "   No Standing or Stopping Violation  Hydrant Violation  \\\n",
       "0                                NaN                NaN   \n",
       "1                                NaN                NaN   \n",
       "\n",
       "   Double Parking Violation             Vio_Time           Latitude  \\\n",
       "0                       NaN  2019-10-26 13:34:00         40.6198682   \n",
       "1                       NaN  2019-10-26 09:49:00  40.81241989999999   \n",
       "\n",
       "            Longitude  count  Hour  \n",
       "0         -74.1594015      1  13.0  \n",
       "1  -73.96053429999999      1   9.0  \n",
       "\n",
       "[2 rows x 50 columns]"
      ]
     },
     "execution_count": 10,
     "metadata": {},
     "output_type": "execute_result"
    }
   ],
   "source": [
    "df.head(2)"
   ]
  },
  {
   "cell_type": "code",
   "execution_count": 15,
   "metadata": {},
   "outputs": [],
   "source": [
    "df = df[(df['Latitude']!='n') & (df['Longitude']!='o')]"
   ]
  },
  {
   "cell_type": "code",
   "execution_count": 28,
   "metadata": {},
   "outputs": [],
   "source": [
    "df['Latitude'] = df['Latitude'].astype(float)\n",
    "df['Longitude'] = df['Longitude'].astype(float)"
   ]
  },
  {
   "cell_type": "code",
   "execution_count": 29,
   "metadata": {},
   "outputs": [
    {
     "name": "stdout",
     "output_type": "stream",
     "text": [
      "Initial latitude range 54.09518 -33.790362\n",
      "initial longitude range 151.081731 -124.0932273\n"
     ]
    }
   ],
   "source": [
    "print(\"Initial latitude range\",max(df['Latitude']),min(df['Latitude']))\n",
    "print(\"initial longitude range\",max(df['Longitude']),min(df['Longitude']))"
   ]
  },
  {
   "cell_type": "code",
   "execution_count": 30,
   "metadata": {},
   "outputs": [],
   "source": [
    "min_lon =-79.762152\n",
    "max_lon =-71.856214\n",
    "min_lat =40.496103\n",
    "max_lat =45.01585"
   ]
  },
  {
   "cell_type": "code",
   "execution_count": 33,
   "metadata": {},
   "outputs": [],
   "source": [
    "df = df[(df['Latitude']>=min_lat) & (df['Latitude']<=max_lat) & (df['Longitude']>=min_lon) & (df['Longitude']<=max_lon)]"
   ]
  },
  {
   "cell_type": "code",
   "execution_count": 34,
   "metadata": {},
   "outputs": [
    {
     "name": "stdout",
     "output_type": "stream",
     "text": [
      "Final latitude range 44.9304742 40.4994849\n",
      "Final longitude range -71.8823322 -79.756193\n"
     ]
    }
   ],
   "source": [
    "print(\"Final latitude range\",max(df['Latitude']),min(df['Latitude']))\n",
    "print(\"Final longitude range\",max(df['Longitude']),min(df['Longitude']))"
   ]
  },
  {
   "cell_type": "code",
   "execution_count": 35,
   "metadata": {},
   "outputs": [
    {
     "data": {
      "text/plain": [
       "(1075092, 50)"
      ]
     },
     "execution_count": 35,
     "metadata": {},
     "output_type": "execute_result"
    }
   ],
   "source": [
    "df.shape"
   ]
  },
  {
   "cell_type": "code",
   "execution_count": 36,
   "metadata": {},
   "outputs": [],
   "source": [
    "df.to_csv('bounded box data.csv')"
   ]
  },
  {
   "cell_type": "code",
   "execution_count": null,
   "metadata": {},
   "outputs": [],
   "source": []
  }
 ],
 "metadata": {
  "kernelspec": {
   "display_name": "Python [conda env:Anaconda3]",
   "language": "python",
   "name": "conda-env-Anaconda3-py"
  },
  "language_info": {
   "codemirror_mode": {
    "name": "ipython",
    "version": 3
   },
   "file_extension": ".py",
   "mimetype": "text/x-python",
   "name": "python",
   "nbconvert_exporter": "python",
   "pygments_lexer": "ipython3",
   "version": "3.5.6"
  }
 },
 "nbformat": 4,
 "nbformat_minor": 2
}
