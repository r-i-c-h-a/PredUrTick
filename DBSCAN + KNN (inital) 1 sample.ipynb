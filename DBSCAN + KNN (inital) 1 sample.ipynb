{
 "cells": [
  {
   "cell_type": "code",
   "execution_count": 2,
   "metadata": {},
   "outputs": [],
   "source": [
    "import pandas as pd\n",
    "import numpy as np\n",
    "import matplotlib.pyplot as plt\n",
    "from sklearn.cluster import DBSCAN\n",
    "import math\n",
    "from sklearn.neighbors import NearestNeighbors"
   ]
  },
  {
   "cell_type": "code",
   "execution_count": 362,
   "metadata": {},
   "outputs": [],
   "source": [
    "df = pd.read_csv(\"Dataset/ParkingData_Month_Time_Week.csv\")"
   ]
  },
  {
   "cell_type": "code",
   "execution_count": 363,
   "metadata": {},
   "outputs": [
    {
     "data": {
      "text/plain": [
       "(1048575, 53)"
      ]
     },
     "execution_count": 363,
     "metadata": {},
     "output_type": "execute_result"
    }
   ],
   "source": [
    "df.shape"
   ]
  },
  {
   "cell_type": "code",
   "execution_count": 364,
   "metadata": {},
   "outputs": [
    {
     "data": {
      "text/html": [
       "<div>\n",
       "<style scoped>\n",
       "    .dataframe tbody tr th:only-of-type {\n",
       "        vertical-align: middle;\n",
       "    }\n",
       "\n",
       "    .dataframe tbody tr th {\n",
       "        vertical-align: top;\n",
       "    }\n",
       "\n",
       "    .dataframe thead th {\n",
       "        text-align: right;\n",
       "    }\n",
       "</style>\n",
       "<table border=\"1\" class=\"dataframe\">\n",
       "  <thead>\n",
       "    <tr style=\"text-align: right;\">\n",
       "      <th></th>\n",
       "      <th>Summons Number</th>\n",
       "      <th>Plate ID</th>\n",
       "      <th>Registration State</th>\n",
       "      <th>Plate Type</th>\n",
       "      <th>Issue Date</th>\n",
       "      <th>Violation Code</th>\n",
       "      <th>Vehicle Body Type</th>\n",
       "      <th>Vehicle Make</th>\n",
       "      <th>Issuing Agency</th>\n",
       "      <th>Street Code1</th>\n",
       "      <th>...</th>\n",
       "      <th>Vio_Time</th>\n",
       "      <th>Latitude</th>\n",
       "      <th>Longitude</th>\n",
       "      <th>count</th>\n",
       "      <th>Hour</th>\n",
       "      <th>Day</th>\n",
       "      <th>Day_Num</th>\n",
       "      <th>Issue Month</th>\n",
       "      <th>Vio_Hour</th>\n",
       "      <th>Time_Num</th>\n",
       "    </tr>\n",
       "  </thead>\n",
       "  <tbody>\n",
       "    <tr>\n",
       "      <th>0</th>\n",
       "      <td>1417714839</td>\n",
       "      <td>DJR2559</td>\n",
       "      <td>NY</td>\n",
       "      <td>PAS</td>\n",
       "      <td>5/12/2017 0:00</td>\n",
       "      <td>46</td>\n",
       "      <td>SUBN</td>\n",
       "      <td>FORD</td>\n",
       "      <td>P</td>\n",
       "      <td>44675</td>\n",
       "      <td>...</td>\n",
       "      <td>10/26/2019 13:34</td>\n",
       "      <td>40.619868</td>\n",
       "      <td>-74.159402</td>\n",
       "      <td>1</td>\n",
       "      <td>13</td>\n",
       "      <td>Friday</td>\n",
       "      <td>4</td>\n",
       "      <td>5</td>\n",
       "      <td>13</td>\n",
       "      <td>2</td>\n",
       "    </tr>\n",
       "    <tr>\n",
       "      <th>1</th>\n",
       "      <td>8471209986</td>\n",
       "      <td>XEDS80</td>\n",
       "      <td>NJ</td>\n",
       "      <td>PAS</td>\n",
       "      <td>10/4/2016 0:00</td>\n",
       "      <td>19</td>\n",
       "      <td>DELV</td>\n",
       "      <td>FRUEH</td>\n",
       "      <td>T</td>\n",
       "      <td>13610</td>\n",
       "      <td>...</td>\n",
       "      <td>10/26/2019 9:49</td>\n",
       "      <td>40.812420</td>\n",
       "      <td>-73.960534</td>\n",
       "      <td>1</td>\n",
       "      <td>9</td>\n",
       "      <td>Tuesday</td>\n",
       "      <td>1</td>\n",
       "      <td>10</td>\n",
       "      <td>9</td>\n",
       "      <td>1</td>\n",
       "    </tr>\n",
       "  </tbody>\n",
       "</table>\n",
       "<p>2 rows × 53 columns</p>\n",
       "</div>"
      ],
      "text/plain": [
       "   Summons Number Plate ID Registration State Plate Type      Issue Date  \\\n",
       "0      1417714839  DJR2559                 NY        PAS  5/12/2017 0:00   \n",
       "1      8471209986   XEDS80                 NJ        PAS  10/4/2016 0:00   \n",
       "\n",
       "   Violation Code Vehicle Body Type Vehicle Make Issuing Agency  Street Code1  \\\n",
       "0              46              SUBN         FORD              P         44675   \n",
       "1              19              DELV        FRUEH              T         13610   \n",
       "\n",
       "    ...             Vio_Time   Latitude  Longitude  count  Hour      Day  \\\n",
       "0   ...     10/26/2019 13:34  40.619868 -74.159402      1    13   Friday   \n",
       "1   ...      10/26/2019 9:49  40.812420 -73.960534      1     9  Tuesday   \n",
       "\n",
       "   Day_Num Issue Month Vio_Hour Time_Num  \n",
       "0        4           5       13        2  \n",
       "1        1          10        9        1  \n",
       "\n",
       "[2 rows x 53 columns]"
      ]
     },
     "execution_count": 364,
     "metadata": {},
     "output_type": "execute_result"
    }
   ],
   "source": [
    "df.head(2)"
   ]
  },
  {
   "cell_type": "code",
   "execution_count": 365,
   "metadata": {},
   "outputs": [],
   "source": [
    "data = df[['Latitude','Longitude','count','Day_Num','Issue Month','Time_Num','Street Name']]"
   ]
  },
  {
   "cell_type": "code",
   "execution_count": 366,
   "metadata": {},
   "outputs": [
    {
     "data": {
      "text/html": [
       "<div>\n",
       "<style scoped>\n",
       "    .dataframe tbody tr th:only-of-type {\n",
       "        vertical-align: middle;\n",
       "    }\n",
       "\n",
       "    .dataframe tbody tr th {\n",
       "        vertical-align: top;\n",
       "    }\n",
       "\n",
       "    .dataframe thead th {\n",
       "        text-align: right;\n",
       "    }\n",
       "</style>\n",
       "<table border=\"1\" class=\"dataframe\">\n",
       "  <thead>\n",
       "    <tr style=\"text-align: right;\">\n",
       "      <th></th>\n",
       "      <th>Latitude</th>\n",
       "      <th>Longitude</th>\n",
       "      <th>count</th>\n",
       "      <th>Day_Num</th>\n",
       "      <th>Issue Month</th>\n",
       "      <th>Time_Num</th>\n",
       "      <th>Street Name</th>\n",
       "    </tr>\n",
       "  </thead>\n",
       "  <tbody>\n",
       "    <tr>\n",
       "      <th>0</th>\n",
       "      <td>40.619868</td>\n",
       "      <td>-74.159402</td>\n",
       "      <td>1</td>\n",
       "      <td>4</td>\n",
       "      <td>5</td>\n",
       "      <td>2</td>\n",
       "      <td>REGIS DRIVE</td>\n",
       "    </tr>\n",
       "    <tr>\n",
       "      <th>1</th>\n",
       "      <td>40.812420</td>\n",
       "      <td>-73.960534</td>\n",
       "      <td>1</td>\n",
       "      <td>1</td>\n",
       "      <td>10</td>\n",
       "      <td>1</td>\n",
       "      <td>Broadway</td>\n",
       "    </tr>\n",
       "  </tbody>\n",
       "</table>\n",
       "</div>"
      ],
      "text/plain": [
       "    Latitude  Longitude  count  Day_Num  Issue Month  Time_Num  Street Name\n",
       "0  40.619868 -74.159402      1        4            5         2  REGIS DRIVE\n",
       "1  40.812420 -73.960534      1        1           10         1     Broadway"
      ]
     },
     "execution_count": 366,
     "metadata": {},
     "output_type": "execute_result"
    }
   ],
   "source": [
    "data.head(2)"
   ]
  },
  {
   "cell_type": "code",
   "execution_count": 367,
   "metadata": {},
   "outputs": [],
   "source": [
    "X = data[[\"Latitude\",\"Longitude\"]]"
   ]
  },
  {
   "cell_type": "code",
   "execution_count": 416,
   "metadata": {},
   "outputs": [
    {
     "name": "stdout",
     "output_type": "stream",
     "text": [
      "     Latitude  Longitude  count  Day_Num  Issue Month  Time_Num  Street Name\n",
      "0   40.619868 -74.159402      1        4            5         2  REGIS DRIVE\n",
      "17  40.734042 -73.873034      1        4            5         2  Queens Blvd\n",
      "(5794, 7)\n"
     ]
    }
   ],
   "source": [
    "#select sample January,Monday,Morning time\n",
    "sample= data[(data['Day_Num']==4) & (data['Issue Month']==5) & (data['Time_Num']==2)]\n",
    "print(sample.head(2))\n",
    "print(sample.shape)"
   ]
  },
  {
   "cell_type": "code",
   "execution_count": 417,
   "metadata": {},
   "outputs": [
    {
     "data": {
      "text/plain": [
       "<matplotlib.collections.PathCollection at 0x1a7a0219828>"
      ]
     },
     "execution_count": 417,
     "metadata": {},
     "output_type": "execute_result"
    },
    {
     "data": {
      "image/png": "[encoded data removed]",
      "text/plain": [
       "<Figure size 432x288 with 1 Axes>"
      ]
     },
     "metadata": {
      "needs_background": "light"
     },
     "output_type": "display_data"
    }
   ],
   "source": [
    "plt.scatter(sample['Latitude'],sample['Longitude'])"
   ]
  },
  {
   "cell_type": "code",
   "execution_count": 418,
   "metadata": {},
   "outputs": [],
   "source": [
    "sample_x = sample[['Latitude','Longitude']]"
   ]
  },
  {
   "cell_type": "code",
   "execution_count": 419,
   "metadata": {},
   "outputs": [
    {
     "name": "stdout",
     "output_type": "stream",
     "text": [
      "9\n"
     ]
    }
   ],
   "source": [
    "# get min pts value -- heuristic method\n",
    "min_pts = round(math.log(sample.shape[0]))\n",
    "print(min_pts)"
   ]
  },
  {
   "cell_type": "code",
   "execution_count": 420,
   "metadata": {},
   "outputs": [],
   "source": [
    "# to get value of eps distance using kNN knee method\n",
    "# selecting value of k = min_pts\n",
    "neigh = NearestNeighbors(n_neighbors=min_pts)\n",
    "nbrs = neigh.fit(sample_x)\n",
    "distances, indices = nbrs.kneighbors(sample_x)"
   ]
  },
  {
   "cell_type": "code",
   "execution_count": 421,
   "metadata": {},
   "outputs": [
    {
     "data": {
      "text/plain": [
       "[<matplotlib.lines.Line2D at 0x1a7a02561d0>]"
      ]
     },
     "execution_count": 421,
     "metadata": {},
     "output_type": "execute_result"
    },
    {
     "data": {
      "image/png": "[encoded data removed]",
      "text/plain": [
       "<Figure size 432x288 with 1 Axes>"
      ]
     },
     "metadata": {
      "needs_background": "light"
     },
     "output_type": "display_data"
    }
   ],
   "source": [
    "distances = np.sort(distances, axis=0)\n",
    "distances = distances[:,1]\n",
    "plt.plot(distances)\n",
    "# no visible knee"
   ]
  },
  {
   "cell_type": "markdown",
   "metadata": {},
   "source": [
    "<h1>DBSCAN</h1>"
   ]
  },
  {
   "cell_type": "code",
   "execution_count": 422,
   "metadata": {},
   "outputs": [
    {
     "data": {
      "text/plain": [
       "DBSCAN(algorithm='auto', eps=0.5, leaf_size=30, metric='euclidean',\n",
       "    metric_params=None, min_samples=9, n_jobs=None, p=None)"
      ]
     },
     "execution_count": 422,
     "metadata": {},
     "output_type": "execute_result"
    }
   ],
   "source": [
    "#build dbscan model for sample_x\n",
    "m = DBSCAN(eps=0.5, min_samples=min_pts)\n",
    "m.fit(sample_x)"
   ]
  },
  {
   "cell_type": "code",
   "execution_count": 423,
   "metadata": {},
   "outputs": [
    {
     "name": "stdout",
     "output_type": "stream",
     "text": [
      "{0, 1, 2, -1}\n"
     ]
    }
   ],
   "source": [
    "#get cluster labels\n",
    "clusters = m.labels_\n",
    "print(set(clusters))"
   ]
  },
  {
   "cell_type": "code",
   "execution_count": 424,
   "metadata": {},
   "outputs": [
    {
     "name": "stdout",
     "output_type": "stream",
     "text": [
      "number of clusters =  3\n"
     ]
    }
   ],
   "source": [
    "#count number of clusters -1 means outlier\n",
    "n_clusters_ = len(set(clusters)) - (1 if -1 in clusters else 0)\n",
    "print(\"number of clusters = \",n_clusters_)"
   ]
  },
  {
   "cell_type": "code",
   "execution_count": 425,
   "metadata": {},
   "outputs": [],
   "source": [
    "#plotting clusters\n",
    "colors = ['royalblue', 'maroon', 'forestgreen', 'mediumorchid', 'tan', 'deeppink', 'olive', 'goldenrod', 'lightcyan', 'navy']\n",
    "vectorizer = np.vectorize(lambda x: colors[x % len(colors)])"
   ]
  },
  {
   "cell_type": "code",
   "execution_count": 438,
   "metadata": {},
   "outputs": [
    {
     "data": {
      "text/plain": [
       "Text(0,0.5,'Longitude')"
      ]
     },
     "execution_count": 438,
     "metadata": {},
     "output_type": "execute_result"
    },
    {
     "data": {
      "image/png": "[encoded data removed]",
      "text/plain": [
       "<Figure size 432x288 with 1 Axes>"
      ]
     },
     "metadata": {
      "needs_background": "light"
     },
     "output_type": "display_data"
    }
   ],
   "source": [
    "plt.scatter(sample_x.iloc[:,0], sample_x.iloc[:,1], c=vectorizer(clusters))\n",
    "plt.title(\"DBSCAN clusters\")\n",
    "plt.xlabel(\"Latitude\")\n",
    "plt.ylabel(\"Longitude\")"
   ]
  },
  {
   "cell_type": "code",
   "execution_count": 427,
   "metadata": {},
   "outputs": [
    {
     "name": "stdout",
     "output_type": "stream",
     "text": [
      "      Latitude  Longitude  cluster           street name\n",
      "0    40.619868 -74.159402        0           REGIS DRIVE\n",
      "17   40.734042 -73.873034        0           Queens Blvd\n",
      "194  40.656108 -73.939568        0          Clarkson Ave\n",
      "363  40.861038 -73.850220        0            Waring Ave\n",
      "542  40.680225 -73.776946        0  NB BAISLEY BLVD @ 15\n"
     ]
    }
   ],
   "source": [
    "clustered_x = sample_x\n",
    "clustered_x['cluster']=clusters\n",
    "clustered_x['street name']=sample['Street Name']\n",
    "print(clustered_x.head())"
   ]
  },
  {
   "cell_type": "markdown",
   "metadata": {},
   "source": [
    "<h1> K Nearest Neighbours </h1>"
   ]
  },
  {
   "cell_type": "code",
   "execution_count": 428,
   "metadata": {},
   "outputs": [],
   "source": [
    "#Applying KNN to DBSCAN clustered data to predict cluster"
   ]
  },
  {
   "cell_type": "code",
   "execution_count": 429,
   "metadata": {},
   "outputs": [],
   "source": [
    "from sklearn.neighbors import KNeighborsClassifier\n",
    "from sklearn.model_selection import train_test_split"
   ]
  },
  {
   "cell_type": "code",
   "execution_count": 430,
   "metadata": {},
   "outputs": [],
   "source": [
    "x = clustered_x[['Latitude','Longitude']]\n",
    "y = clustered_x['cluster']"
   ]
  },
  {
   "cell_type": "code",
   "execution_count": 431,
   "metadata": {},
   "outputs": [
    {
     "data": {
      "text/plain": [
       "5794"
      ]
     },
     "execution_count": 431,
     "metadata": {},
     "output_type": "execute_result"
    }
   ],
   "source": [
    "len(clustered_x)"
   ]
  },
  {
   "cell_type": "code",
   "execution_count": 432,
   "metadata": {},
   "outputs": [],
   "source": [
    "x_train, x_test, y_train, y_test = train_test_split(x, y, test_size=0.2, random_state=1)"
   ]
  },
  {
   "cell_type": "code",
   "execution_count": 433,
   "metadata": {},
   "outputs": [
    {
     "data": {
      "text/plain": [
       "KNeighborsClassifier(algorithm='auto', leaf_size=30, metric='minkowski',\n",
       "           metric_params=None, n_jobs=None, n_neighbors=3, p=2,\n",
       "           weights='uniform')"
      ]
     },
     "execution_count": 433,
     "metadata": {},
     "output_type": "execute_result"
    }
   ],
   "source": [
    "# Create KNN classifier\n",
    "knn = KNeighborsClassifier(n_neighbors = 3)\n",
    "# Fit the classifier to the data\n",
    "knn.fit(x_train,y_train)"
   ]
  },
  {
   "cell_type": "code",
   "execution_count": 434,
   "metadata": {},
   "outputs": [
    {
     "data": {
      "text/plain": [
       "array([0, 0, 0, 0, 0], dtype=int64)"
      ]
     },
     "execution_count": 434,
     "metadata": {},
     "output_type": "execute_result"
    }
   ],
   "source": [
    "#show first 5 model predictions on the test data\n",
    "knn.predict(x_test)[0:5]"
   ]
  },
  {
   "cell_type": "markdown",
   "metadata": {},
   "source": [
    "<h1>Performance Metrics</h1>"
   ]
  },
  {
   "cell_type": "code",
   "execution_count": 435,
   "metadata": {},
   "outputs": [
    {
     "data": {
      "text/plain": [
       "0.998274374460742"
      ]
     },
     "execution_count": 435,
     "metadata": {},
     "output_type": "execute_result"
    }
   ],
   "source": [
    "knn.score(x_test, y_test)"
   ]
  },
  {
   "cell_type": "code",
   "execution_count": 436,
   "metadata": {},
   "outputs": [
    {
     "name": "stdout",
     "output_type": "stream",
     "text": [
      "[0.99827586 0.99913793 1.         0.99913644 0.99827139]\n",
      "cv_scores mean:0.9989643253549781\n"
     ]
    }
   ],
   "source": [
    "from sklearn.model_selection import cross_val_score\n",
    "import numpy as np\n",
    "#create a new KNN model\n",
    "knn_cv = KNeighborsClassifier(n_neighbors=3)\n",
    "#train model with cv of 5 \n",
    "cv_scores = cross_val_score(knn_cv, x, y, cv=5)\n",
    "#print each cv score (accuracy) and average them\n",
    "print(cv_scores)\n",
    "print('cv_scores mean:{}'.format(np.mean(cv_scores)))"
   ]
  },
  {
   "cell_type": "markdown",
   "metadata": {},
   "source": [
    "<h1>Implementation</h1>"
   ]
  },
  {
   "cell_type": "code",
   "execution_count": 437,
   "metadata": {},
   "outputs": [
    {
     "name": "stdout",
     "output_type": "stream",
     "text": [
      "Not safe to park!!!\n",
      "Also Avoid the following areas:\n",
      "E 29th St\n",
      "Wooster St\n",
      "SB FLATBUSH AVE EXT\n"
     ]
    }
   ],
   "source": [
    "# for given test case: Print top 3 streets to stay away from\n",
    "#for case when not safe\n",
    "x_coord,y_coord=40.61,-74.15\n",
    "case_coords= [x_coord,y_coord]\n",
    "case_cluster = knn.predict(np.array(case_coords).reshape(1,-1))\n",
    "if(case_cluster[0]!=-1):\n",
    "    distances,indices = knn.kneighbors(np.array(case_coords).reshape(1,-1))\n",
    "    #print(distances)\n",
    "    if(min(distances[0])>1):\n",
    "        print(\"Safe to Park\")\n",
    "    else:\n",
    "        print(\"Not safe to park!!!\")\n",
    "        print(\"Also Avoid the following areas:\")\n",
    "        for i in indices[0]:\n",
    "            print(np.array(clustered_x['street name'])[i])\n",
    "else:\n",
    "    print(\"Safe To Park\")\n"
   ]
  },
  {
   "cell_type": "code",
   "execution_count": 415,
   "metadata": {},
   "outputs": [
    {
     "name": "stdout",
     "output_type": "stream",
     "text": [
      "Safe to Park\n"
     ]
    }
   ],
   "source": [
    "# for given test case: Print top 3 streets to stay away from\n",
    "#for case when safe\n",
    "x_coord,y_coord=43,-74\n",
    "case_coords= [x_coord,y_coord]\n",
    "case_cluster = knn.predict(np.array(case_coords).reshape(1,-1))\n",
    "if(case_cluster[0]!=-1):\n",
    "    distances,indices = knn.kneighbors(np.array(case_coords).reshape(1,-1))\n",
    "    #print(distances)\n",
    "    if(min(distances[0])>1):\n",
    "        print(\"Safe to Park\")\n",
    "    else:\n",
    "        print(\"Not safe to park!!!\")\n",
    "        print(\"Also Avoid the following areas:\")\n",
    "        for i in indices[0]:\n",
    "            print(np.array(clustered_x['street name'])[i])\n",
    "else:\n",
    "    print(\"Safe To Park\")\n"
   ]
  },
  {
   "cell_type": "code",
   "execution_count": null,
   "metadata": {},
   "outputs": [],
   "source": []
  }
 ],
 "metadata": {
  "kernelspec": {
   "display_name": "Python [conda root]",
   "language": "python",
   "name": "conda-root-py"
  },
  "language_info": {
   "codemirror_mode": {
    "name": "ipython",
    "version": 3
   },
   "file_extension": ".py",
   "mimetype": "text/x-python",
   "name": "python",
   "nbconvert_exporter": "python",
   "pygments_lexer": "ipython3",
   "version": "3.5.6"
  }
 },
 "nbformat": 4,
 "nbformat_minor": 2
}
